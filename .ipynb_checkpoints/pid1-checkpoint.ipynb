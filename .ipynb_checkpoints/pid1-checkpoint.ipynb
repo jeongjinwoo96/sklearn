{
 "cells": [
  {
   "cell_type": "code",
   "execution_count": 2,
   "id": "1320bd35",
   "metadata": {},
   "outputs": [],
   "source": [
    "import pandas as pd\n",
    "input = pd.read_excel(\"C:/Users/USER/OneDrive - 중앙대학교/문서/cau/4-1/미래융합보안과 서비스/데이터셋/input_score_last.xlsx\")\n",
    "\n",
    "y_feature = input['점수']\n",
    "X_feature = input.drop('점수',axis=1)\n",
    "\n",
    "from sklearn.model_selection import train_test_split\n",
    "X_train, X_test, y_train, y_test = train_test_split(X_feature, y_feature, test_size=0.2, \n",
    "random_state =50)"
   ]
  },
  {
   "cell_type": "code",
   "execution_count": 3,
   "id": "bda9a604",
   "metadata": {},
   "outputs": [],
   "source": [
    "from sklearn.model_selection import GridSearchCV\n",
    "from sklearn.model_selection import cross_val_score\n",
    "from sklearn.metrics import mean_squared_error, r2_score"
   ]
  },
  {
   "cell_type": "code",
   "execution_count": 4,
   "id": "9c385678",
   "metadata": {},
   "outputs": [],
   "source": [
    "def get_model_cv_prediction(model, X_data, y_target):\n",
    "    neg_mse_scores = cross_val_score(model, X_data, y_target, scoring = \"neg_mean_squared_error\",cv=5)\n",
    "    rmse_scores = np.sqrt(-1*neg_mse_scores)\n",
    "    avg_rmse = np.mean(rmse_scores)\n",
    "    r2 = cross_val_score(model, X_data, y_target, scoring = \"r2\",cv=5)\n",
    "    r2_mean = np.mean(r2)\n",
    "    \n",
    "    print('#### ',model.__class__.__name__, ' ####')\n",
    "    print(' 5 교차 검증의 평균 RMSE : {0:.3f}'.format(avg_rmse))\n",
    "    print(' 5 교차 검증의 평균 r2 score : {0:.3f}'.format(r2_mean))"
   ]
  },
  {
   "cell_type": "code",
   "execution_count": 15,
   "id": "b5cdc2d0",
   "metadata": {},
   "outputs": [],
   "source": [
    "from sklearn.linear_model import LinearRegression \n",
    "from sklearn.tree import DecisionTreeRegressor\n",
    "from sklearn.ensemble import RandomForestRegressor\n",
    "from sklearn.ensemble import GradientBoostingRegressor\n",
    "from xgboost import XGBRegressor\n",
    "from lightgbm import LGBMRegressor"
   ]
  },
  {
   "cell_type": "code",
   "execution_count": 16,
   "id": "1f8df6bb",
   "metadata": {},
   "outputs": [],
   "source": [
    "import numpy as np\n",
    "import time "
   ]
  },
  {
   "cell_type": "code",
   "execution_count": 42,
   "id": "b432f8af",
   "metadata": {},
   "outputs": [
    {
     "name": "stdout",
     "output_type": "stream",
     "text": [
      "####  LGBMRegressor  ####\n",
      " 5 교차 검증의 평균 RMSE : 0.624\n",
      " 5 교차 검증의 평균 r2 score : 0.986\n",
      "time : 79.150\n"
     ]
    }
   ],
   "source": [
    "\n",
    "\n",
    "lgb_reg = LGBMRegressor(n_estimators=1200,learning_rate=0.01)\n",
    "\n",
    "\n",
    "models = [lgb_reg]\n",
    "for model in models:\n",
    "    start = time.time()\n",
    "    get_model_cv_prediction(model, X_feature, y_feature)\n",
    "    print(\"time : {0:.3f}\".format(time.time()-start))"
   ]
  },
  {
   "cell_type": "code",
   "execution_count": null,
   "id": "9e74e7a7",
   "metadata": {},
   "outputs": [],
   "source": [
    "from sklearn.model_selection import train_test_split\n",
    "X_train, X_test, y_train, y_test = train_test_split(X_feature, y_feature, test_size=0.2, \n",
    "random_state =50)"
   ]
  },
  {
   "cell_type": "code",
   "execution_count": 23,
   "id": "ffc5cccc",
   "metadata": {},
   "outputs": [
    {
     "data": {
      "text/plain": [
       "dict_keys(['explained_variance', 'r2', 'max_error', 'neg_median_absolute_error', 'neg_mean_absolute_error', 'neg_mean_absolute_percentage_error', 'neg_mean_squared_error', 'neg_mean_squared_log_error', 'neg_root_mean_squared_error', 'neg_mean_poisson_deviance', 'neg_mean_gamma_deviance', 'accuracy', 'top_k_accuracy', 'roc_auc', 'roc_auc_ovr', 'roc_auc_ovo', 'roc_auc_ovr_weighted', 'roc_auc_ovo_weighted', 'balanced_accuracy', 'average_precision', 'neg_log_loss', 'neg_brier_score', 'adjusted_rand_score', 'rand_score', 'homogeneity_score', 'completeness_score', 'v_measure_score', 'mutual_info_score', 'adjusted_mutual_info_score', 'normalized_mutual_info_score', 'fowlkes_mallows_score', 'precision', 'precision_macro', 'precision_micro', 'precision_samples', 'precision_weighted', 'recall', 'recall_macro', 'recall_micro', 'recall_samples', 'recall_weighted', 'f1', 'f1_macro', 'f1_micro', 'f1_samples', 'f1_weighted', 'jaccard', 'jaccard_macro', 'jaccard_micro', 'jaccard_samples', 'jaccard_weighted'])"
      ]
     },
     "execution_count": 23,
     "metadata": {},
     "output_type": "execute_result"
    }
   ],
   "source": [
    "sklearn.metrics.SCORERS.keys()"
   ]
  },
  {
   "cell_type": "code",
   "execution_count": 1,
   "id": "3b757362",
   "metadata": {},
   "outputs": [],
   "source": [
    "import sklearn"
   ]
  },
  {
   "cell_type": "code",
   "execution_count": null,
   "id": "30edc85b",
   "metadata": {},
   "outputs": [],
   "source": [
    "lgb_reg = LGBMRegressor(n_estimators=1200,learning_rate=0.01)\n",
    "\n",
    "import shap\n"
   ]
  }
 ],
 "metadata": {
  "kernelspec": {
   "display_name": "Python 3",
   "language": "python",
   "name": "python3"
  },
  "language_info": {
   "codemirror_mode": {
    "name": "ipython",
    "version": 3
   },
   "file_extension": ".py",
   "mimetype": "text/x-python",
   "name": "python",
   "nbconvert_exporter": "python",
   "pygments_lexer": "ipython3",
   "version": "3.7.10"
  }
 },
 "nbformat": 4,
 "nbformat_minor": 5
}
